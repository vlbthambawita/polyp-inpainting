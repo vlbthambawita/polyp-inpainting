{
 "cells": [
  {
   "cell_type": "code",
   "execution_count": 20,
   "metadata": {},
   "outputs": [],
   "source": [
    "import os\n",
    "import glob\n",
    "import random\n",
    "from shutil import copyfile, copy"
   ]
  },
  {
   "cell_type": "code",
   "execution_count": 2,
   "metadata": {},
   "outputs": [],
   "source": [
    "selected_paths = [\"/work/vajira/DATA/hyper_kvasir/data_new/splits/split_0/bbps-0-1\",\n",
    "                    \"/work/vajira/DATA/hyper_kvasir/data_new/splits/split_0/bbps-2-3\",\n",
    "                    \"/work/vajira/DATA/hyper_kvasir/data_new/splits/split_0/normal-cecum\",\n",
    "                    \"/work/vajira/DATA/hyper_kvasir/data_new/splits/split_0/retroflex-rectum\",\n",
    "                    \n",
    "                    \"/work/vajira/DATA/hyper_kvasir/data_new/splits/split_1/bbps-0-1\",\n",
    "                    \"/work/vajira/DATA/hyper_kvasir/data_new/splits/split_1/bbps-2-3\",\n",
    "                    \"/work/vajira/DATA/hyper_kvasir/data_new/splits/split_1/normal-cecum\",\n",
    "                    \"/work/vajira/DATA/hyper_kvasir/data_new/splits/split_1/retroflex-rectum\",\n",
    "\n",
    "\n",
    "                    ]"
   ]
  },
  {
   "cell_type": "code",
   "execution_count": 3,
   "metadata": {},
   "outputs": [],
   "source": [
    "#print(selected_paths)"
   ]
  },
  {
   "cell_type": "code",
   "execution_count": 4,
   "metadata": {},
   "outputs": [],
   "source": [
    "#l = glob.glob('/work/vajira/DATA/hyper_kvasir/data_new/splits/split_1/retroflex-rectum/*.jpg')"
   ]
  },
  {
   "cell_type": "code",
   "execution_count": 5,
   "metadata": {},
   "outputs": [],
   "source": [
    "#len(l)"
   ]
  },
  {
   "cell_type": "code",
   "execution_count": 6,
   "metadata": {},
   "outputs": [],
   "source": [
    "#"
   ]
  },
  {
   "cell_type": "code",
   "execution_count": 7,
   "metadata": {},
   "outputs": [],
   "source": [
    "all_paths = []\n",
    "for p in selected_paths:\n",
    "\n",
    "    all_paths = all_paths + glob.glob('{}/*.jpg'.format(p))"
   ]
  },
  {
   "cell_type": "code",
   "execution_count": 8,
   "metadata": {},
   "outputs": [
    {
     "data": {
      "text/plain": [
       "3194"
      ]
     },
     "execution_count": 8,
     "metadata": {},
     "output_type": "execute_result"
    }
   ],
   "source": [
    "len(all_paths)"
   ]
  },
  {
   "cell_type": "code",
   "execution_count": 12,
   "metadata": {},
   "outputs": [],
   "source": [
    "random.shuffle(all_paths)"
   ]
  },
  {
   "cell_type": "code",
   "execution_count": 13,
   "metadata": {},
   "outputs": [
    {
     "data": {
      "text/plain": [
       "'/work/vajira/DATA/hyper_kvasir/data_new/splits/split_1/normal-cecum/d6a6adf7-12eb-4b87-9cc0-9476f1d6eef2.jpg'"
      ]
     },
     "execution_count": 13,
     "metadata": {},
     "output_type": "execute_result"
    }
   ],
   "source": [
    "all_paths[0]"
   ]
  },
  {
   "cell_type": "code",
   "execution_count": 16,
   "metadata": {},
   "outputs": [
    {
     "data": {
      "text/plain": [
       "'/work/vajira/DATA/hyper_kvasir/data_new/splits/split_0/bbps-2-3/5fe670bc-9bfc-41fc-8d35-a16b278f3644.jpg'"
      ]
     },
     "execution_count": 16,
     "metadata": {},
     "output_type": "execute_result"
    }
   ],
   "source": [
    "all_paths[3]"
   ]
  },
  {
   "cell_type": "code",
   "execution_count": 21,
   "metadata": {},
   "outputs": [
    {
     "data": {
      "text/plain": [
       "'/work/vajira/DATA/hyper_kvasir/data_new/clear_1k_sets/clear_nopolyps_set_1/5fe670bc-9bfc-41fc-8d35-a16b278f3644.jpg'"
      ]
     },
     "execution_count": 21,
     "metadata": {},
     "output_type": "execute_result"
    }
   ],
   "source": [
    "copy(all_paths[3], \"/work/vajira/DATA/hyper_kvasir/data_new/clear_1k_sets/clear_nopolyps_set_1/\")"
   ]
  },
  {
   "cell_type": "code",
   "execution_count": 22,
   "metadata": {},
   "outputs": [],
   "source": [
    "\n",
    "dst = \"/work/vajira/DATA/hyper_kvasir/data_new/clear_1k_sets/clear_nopolyps_set_1\"\n",
    "\n",
    "for i in range(0,1000):\n",
    "    copy(all_paths[i], dst)"
   ]
  },
  {
   "cell_type": "code",
   "execution_count": 23,
   "metadata": {},
   "outputs": [],
   "source": [
    "dst = \"/work/vajira/DATA/hyper_kvasir/data_new/clear_1k_sets/clear_nopolyps_set_2\"\n",
    "\n",
    "for i in range(1000,2000):\n",
    "    copy(all_paths[i], dst)"
   ]
  },
  {
   "cell_type": "code",
   "execution_count": 24,
   "metadata": {},
   "outputs": [],
   "source": [
    "dst = \"/work/vajira/DATA/hyper_kvasir/data_new/clear_1k_sets/clear_nopolyps_set_3\"\n",
    "\n",
    "for i in range(2000,3000):\n",
    "    copy(all_paths[i], dst)"
   ]
  },
  {
   "cell_type": "code",
   "execution_count": null,
   "metadata": {},
   "outputs": [],
   "source": []
  }
 ],
 "metadata": {
  "file_extension": ".py",
  "kernelspec": {
   "display_name": "Python 3",
   "language": "python",
   "name": "python3"
  },
  "language_info": {
   "codemirror_mode": {
    "name": "ipython",
    "version": 3
   },
   "file_extension": ".py",
   "mimetype": "text/x-python",
   "name": "python",
   "nbconvert_exporter": "python",
   "pygments_lexer": "ipython3",
   "version": "3.7.3"
  },
  "mimetype": "text/x-python",
  "name": "python",
  "npconvert_exporter": "python",
  "pygments_lexer": "ipython3",
  "version": 3
 },
 "nbformat": 4,
 "nbformat_minor": 2
}
